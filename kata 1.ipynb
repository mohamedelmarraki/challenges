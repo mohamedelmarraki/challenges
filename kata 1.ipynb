{
 "cells": [
  {
   "cell_type": "code",
   "execution_count": 1,
   "id": "473c09ff",
   "metadata": {},
   "outputs": [],
   "source": [
    "def balanced_num(number):\n",
    "    nums = [int(n) for n in str(number)]\n",
    "    if len(nums) <= 2:\n",
    "        return \"Balanced\"\n",
    "    elif len(nums) % 2 == 0:\n",
    "        if sum(nums[:len(nums)//2-1]) == sum(nums[len(nums)//2 + 1:]):\n",
    "            return \"Balanced\"\n",
    "        else:\n",
    "            return \"Not Balanced\"\n",
    "    else:\n",
    "        if sum(nums[:len(nums)//2]) == sum(nums[len(nums)//2 + 1:]):\n",
    "            return \"Balanced\"\n",
    "        else:\n",
    "            return \"Not Balanced\""
   ]
  },
  {
   "cell_type": "code",
   "execution_count": 2,
   "id": "cc043553",
   "metadata": {},
   "outputs": [
    {
     "data": {
      "text/plain": [
       "'Not Balanced'"
      ]
     },
     "execution_count": 2,
     "metadata": {},
     "output_type": "execute_result"
    }
   ],
   "source": [
    "balanced_num(634789623789)"
   ]
  },
  {
   "cell_type": "code",
   "execution_count": null,
   "id": "47385826",
   "metadata": {},
   "outputs": [],
   "source": []
  }
 ],
 "metadata": {
  "kernelspec": {
   "display_name": "Python 3 (ipykernel)",
   "language": "python",
   "name": "python3"
  },
  "language_info": {
   "codemirror_mode": {
    "name": "ipython",
    "version": 3
   },
   "file_extension": ".py",
   "mimetype": "text/x-python",
   "name": "python",
   "nbconvert_exporter": "python",
   "pygments_lexer": "ipython3",
   "version": "3.7.11"
  }
 },
 "nbformat": 4,
 "nbformat_minor": 5
}
